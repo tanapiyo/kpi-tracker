{
 "cells": [
  {
   "cell_type": "code",
   "execution_count": 21,
   "metadata": {},
   "outputs": [],
   "source": [
    "import tweepy\n",
    "import os\n",
    "import datetime\n",
    "import csv"
   ]
  },
  {
   "cell_type": "code",
   "execution_count": 22,
   "metadata": {},
   "outputs": [],
   "source": [
    "API_KEY = \"hogehoge\"\n",
    "API_SECRET_KEY = \"hugahuga\"\n",
    "ACCESS_TOKEN = \"hogehoge\"\n",
    "ACCESS_TOKEN_SECRET = \"hugahuga\""
   ]
  },
  {
   "cell_type": "code",
   "execution_count": 23,
   "metadata": {},
   "outputs": [],
   "source": [
    "auth = tweepy.OAuthHandler(API_KEY, API_SECRET_KEY)\n",
    "auth.set_access_token(ACCESS_TOKEN, ACCESS_TOKEN_SECRET)\n",
    "api = tweepy.API(auth,wait_on_rate_limit = True)"
   ]
  },
  {
   "cell_type": "code",
   "execution_count": 24,
   "metadata": {},
   "outputs": [],
   "source": [
    "'''\n",
    "フォロワー数、フォロー数の取得\n",
    "'''\n",
    "followers = api.me().followers_count\n",
    "followees = api.me().friends_count"
   ]
  },
  {
   "cell_type": "code",
   "execution_count": 26,
   "metadata": {},
   "outputs": [
    {
     "name": "stdout",
     "output_type": "stream",
     "text": [
      "なかった\n"
     ]
    }
   ],
   "source": [
    "'''\n",
    "フォロワー数、フォロー数をCSVに書き込む\n",
    "dataフォルダは事前に作成しておいてください\n",
    "'''\n",
    "\n",
    "PATH = \"data/twitter.csv\"\n",
    "dt_now = datetime.datetime.now()\n",
    "\n",
    "#もしファイルがあれば\n",
    "if os.path.exists(PATH):\n",
    "    with open(PATH, 'a') as f:\n",
    "        writer = csv.writer(f)\n",
    "        writer.writerow([dt_now.strftime('%Y%m%d'), followers, followees])\n",
    "else:\n",
    "    with open(PATH, 'w') as f:\n",
    "        writer = csv.writer(f)\n",
    "        writer.writerow([\"日付\", \"フォロワー数\", \"フォロー数\"])\n",
    "        writer.writerow([dt_now.strftime('%Y年%m月%d日'), followers, followees])"
   ]
  },
  {
   "cell_type": "code",
   "execution_count": null,
   "metadata": {},
   "outputs": [],
   "source": []
  }
 ],
 "metadata": {
  "kernelspec": {
   "display_name": "Python 3",
   "language": "python",
   "name": "python3"
  },
  "language_info": {
   "codemirror_mode": {
    "name": "ipython",
    "version": 3
   },
   "file_extension": ".py",
   "mimetype": "text/x-python",
   "name": "python",
   "nbconvert_exporter": "python",
   "pygments_lexer": "ipython3",
   "version": "3.6.5"
  }
 },
 "nbformat": 4,
 "nbformat_minor": 2
}
