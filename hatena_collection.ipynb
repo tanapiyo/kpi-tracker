{
 "cells": [
  {
   "cell_type": "code",
   "execution_count": 35,
   "metadata": {},
   "outputs": [],
   "source": [
    "import requests\n",
    "import json\n",
    "import datetime\n",
    "import os\n",
    "import csv"
   ]
  },
  {
   "cell_type": "code",
   "execution_count": 27,
   "metadata": {},
   "outputs": [],
   "source": [
    "BLOG_PATH = 'https://let-piyomaru.hatenablog.com/'"
   ]
  },
  {
   "cell_type": "code",
   "execution_count": 28,
   "metadata": {},
   "outputs": [],
   "source": [
    "#ブックマーク数\n",
    "bookmark_url = \"https://b.hatena.ne.jp/bc/\" + BLOG_PATH\n",
    "response = requests.get(bookmark_url,allow_redirects=False)\n",
    "bookmark = response.headers['Location'].split(\"/\")[-1].rstrip(\".gif\")\n",
    "bookmark = int(bookmark)"
   ]
  },
  {
   "cell_type": "code",
   "execution_count": 29,
   "metadata": {},
   "outputs": [],
   "source": [
    "#読者登録数\n",
    "subscribe_url = \"https://blog.hatena.ne.jp/api/init?blog=\" + BLOG_PATH\n",
    "headers = {'X-Requested-With': 'XMLHttpRequest'}\n",
    "response = requests.get(subscribe_url,headers=headers,allow_redirects=False).json()\n",
    "subscribers = response['subscribes']"
   ]
  },
  {
   "cell_type": "code",
   "execution_count": 37,
   "metadata": {},
   "outputs": [],
   "source": [
    "'''\n",
    "ブックマーク数、読者登録数をCSVに書き込む\n",
    "dataフォルダは事前に作成しておいてください\n",
    "'''\n",
    "\n",
    "PATH = \"data/hatena.csv\"\n",
    "dt_now = datetime.datetime.now()\n",
    "\n",
    "#もしファイルがあれば\n",
    "if os.path.exists(PATH):\n",
    "    with open(PATH, 'a') as f:\n",
    "        writer = csv.writer(f)\n",
    "        writer.writerow([dt_now.strftime('%Y%m%d'), bookmark, subscribers])\n",
    "else:\n",
    "    with open(PATH, 'w') as f:\n",
    "        writer = csv.writer(f)\n",
    "        writer.writerow([\"日付\", \"ブックマーク数\", \"読者登録数\"])\n",
    "        writer.writerow([dt_now.strftime('%Y年%m月%d日'), bookmark, subscribers])"
   ]
  },
  {
   "cell_type": "code",
   "execution_count": null,
   "metadata": {},
   "outputs": [],
   "source": []
  }
 ],
 "metadata": {
  "kernelspec": {
   "display_name": "Python 3",
   "language": "python",
   "name": "python3"
  },
  "language_info": {
   "codemirror_mode": {
    "name": "ipython",
    "version": 3
   },
   "file_extension": ".py",
   "mimetype": "text/x-python",
   "name": "python",
   "nbconvert_exporter": "python",
   "pygments_lexer": "ipython3",
   "version": "3.6.5"
  }
 },
 "nbformat": 4,
 "nbformat_minor": 4
}
